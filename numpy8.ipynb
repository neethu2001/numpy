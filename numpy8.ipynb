{
  "nbformat": 4,
  "nbformat_minor": 0,
  "metadata": {
    "colab": {
      "provenance": []
    },
    "kernelspec": {
      "name": "python3",
      "display_name": "Python 3"
    },
    "language_info": {
      "name": "python"
    }
  },
  "cells": [
    {
      "cell_type": "markdown",
      "source": [
        "**strings**"
      ],
      "metadata": {
        "id": "NsT4c7P3gaSh"
      }
    },
    {
      "cell_type": "code",
      "source": [
        "import numpy as np\n",
        "s1 = \" Neethu is my name \"\n",
        "s2 = \" I am an Indian \"\n"
      ],
      "metadata": {
        "id": "Jal8Y-p7gcFS"
      },
      "execution_count": 8,
      "outputs": []
    },
    {
      "cell_type": "code",
      "source": [
        "# concatenate the sentence by using add\n",
        "np.char.add(s1,s2)"
      ],
      "metadata": {
        "colab": {
          "base_uri": "https://localhost:8080/"
        },
        "id": "UoEq6rscg9lu",
        "outputId": "b0e55c9e-adea-4d24-af18-9aed700e26a1"
      },
      "execution_count": 9,
      "outputs": [
        {
          "output_type": "execute_result",
          "data": {
            "text/plain": [
              "array(' Neethu is my name  I am an Indian ', dtype='<U35')"
            ]
          },
          "metadata": {},
          "execution_count": 9
        }
      ]
    },
    {
      "cell_type": "code",
      "source": [
        "np.char.upper(s1) # conveert sentence into uppercase"
      ],
      "metadata": {
        "colab": {
          "base_uri": "https://localhost:8080/"
        },
        "id": "EjhHtELphX7J",
        "outputId": "15494826-1f3e-4840-a4ba-d79cfa6c097c"
      },
      "execution_count": 10,
      "outputs": [
        {
          "output_type": "execute_result",
          "data": {
            "text/plain": [
              "array(' NEETHU IS MY NAME ', dtype='<U19')"
            ]
          },
          "metadata": {},
          "execution_count": 10
        }
      ]
    },
    {
      "cell_type": "code",
      "source": [
        "np.char.lower(s1) # convert the sentence into lowercase"
      ],
      "metadata": {
        "colab": {
          "base_uri": "https://localhost:8080/"
        },
        "id": "eHHazytwhjP5",
        "outputId": "a7f168be-85b4-46b0-8887-6236eab31a79"
      },
      "execution_count": 12,
      "outputs": [
        {
          "output_type": "execute_result",
          "data": {
            "text/plain": [
              "array(' neethu is my name ', dtype='<U19')"
            ]
          },
          "metadata": {},
          "execution_count": 12
        }
      ]
    },
    {
      "cell_type": "code",
      "source": [
        "np.char.split(s1)# splitting the sentence"
      ],
      "metadata": {
        "colab": {
          "base_uri": "https://localhost:8080/"
        },
        "id": "N3czMta9hwxm",
        "outputId": "a318d984-e8c3-4d29-ba20-7569c54202b2"
      },
      "execution_count": 13,
      "outputs": [
        {
          "output_type": "execute_result",
          "data": {
            "text/plain": [
              "array(list(['Neethu', 'is', 'my', 'name']), dtype=object)"
            ]
          },
          "metadata": {},
          "execution_count": 13
        }
      ]
    },
    {
      "cell_type": "code",
      "source": [
        "s3='Neethu is my\\nname'\n",
        "np.char.splitlines(s3) # \\n is coming between the elements , that'y it is splitting into 2"
      ],
      "metadata": {
        "colab": {
          "base_uri": "https://localhost:8080/"
        },
        "id": "YWljizMPh_nH",
        "outputId": "71568f44-718c-462a-d3a0-58f8ea59029a"
      },
      "execution_count": 16,
      "outputs": [
        {
          "output_type": "execute_result",
          "data": {
            "text/plain": [
              "array(list(['Neethu is my', 'name']), dtype=object)"
            ]
          },
          "metadata": {},
          "execution_count": 16
        }
      ]
    },
    {
      "cell_type": "code",
      "source": [
        "np.char.replace(s1,'name','fullname') # replacing the existing term into another one\n",
        "# np.char.replace(mention sentence name, existing string, new stroing which u want to replace)"
      ],
      "metadata": {
        "colab": {
          "base_uri": "https://localhost:8080/"
        },
        "id": "KsC7J-IciypM",
        "outputId": "2247863c-ad78-4dbc-d6ec-386fd61aebad"
      },
      "execution_count": 20,
      "outputs": [
        {
          "output_type": "execute_result",
          "data": {
            "text/plain": [
              "array(' Neethu is my fullname ', dtype='<U23')"
            ]
          },
          "metadata": {},
          "execution_count": 20
        }
      ]
    },
    {
      "cell_type": "code",
      "source": [
        "print('******good bye ******')\n",
        " # it is a timetaking process. we can do this with numpy easily"
      ],
      "metadata": {
        "colab": {
          "base_uri": "https://localhost:8080/"
        },
        "id": "R1-zzm6XjhFn",
        "outputId": "74cd2265-0052-409a-fa00-459235b8a743"
      },
      "execution_count": 21,
      "outputs": [
        {
          "output_type": "stream",
          "name": "stdout",
          "text": [
            "******good bye ******\n"
          ]
        }
      ]
    },
    {
      "cell_type": "code",
      "source": [
        "print(np.char.center('good bye',80,'*'))\n",
        " # it will print good type at center . total space taken is 80. in the rest of the space it is filling with *"
      ],
      "metadata": {
        "colab": {
          "base_uri": "https://localhost:8080/"
        },
        "id": "JJZusJihjxpV",
        "outputId": "ce5b8635-ed72-473e-c5e1-803f1dc3c4be"
      },
      "execution_count": 23,
      "outputs": [
        {
          "output_type": "stream",
          "name": "stdout",
          "text": [
            "************************************good bye************************************\n"
          ]
        }
      ]
    }
  ]
}