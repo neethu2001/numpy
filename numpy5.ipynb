{
  "nbformat": 4,
  "nbformat_minor": 0,
  "metadata": {
    "colab": {
      "provenance": []
    },
    "kernelspec": {
      "name": "python3",
      "display_name": "Python 3"
    },
    "language_info": {
      "name": "python"
    }
  },
  "cells": [
    {
      "cell_type": "code",
      "execution_count": 28,
      "metadata": {
        "colab": {
          "base_uri": "https://localhost:8080/"
        },
        "id": "pcUGpeBQiEiN",
        "outputId": "cceb28e5-55f7-4452-eed8-6696ec85100d"
      },
      "outputs": [
        {
          "output_type": "stream",
          "name": "stdout",
          "text": [
            "[[ 0  1  2]\n",
            " [ 3  4  5]\n",
            " [ 6  7  8]\n",
            " [ 9 10 11]\n",
            " [12 13 14]\n",
            " [15 16 17]]\n",
            "[[20 21 22]\n",
            " [23 24 25]\n",
            " [26 27 28]\n",
            " [29 30 31]\n",
            " [32 33 34]\n",
            " [35 36 37]]\n"
          ]
        }
      ],
      "source": [
        "import numpy as np\n",
        "a=np.arange(0,18).reshape(6,3)\n",
        "b=np.arange(20,38).reshape(6,3)\n",
        "print(a)\n",
        "print(b)"
      ]
    },
    {
      "cell_type": "code",
      "source": [
        "a+b"
      ],
      "metadata": {
        "colab": {
          "base_uri": "https://localhost:8080/"
        },
        "id": "CCP-0mM7lRDK",
        "outputId": "7eb495bf-129e-4c6d-ad3e-27ce4adf2f37"
      },
      "execution_count": 29,
      "outputs": [
        {
          "output_type": "execute_result",
          "data": {
            "text/plain": [
              "array([[20, 22, 24],\n",
              "       [26, 28, 30],\n",
              "       [32, 34, 36],\n",
              "       [38, 40, 42],\n",
              "       [44, 46, 48],\n",
              "       [50, 52, 54]])"
            ]
          },
          "metadata": {},
          "execution_count": 29
        }
      ]
    },
    {
      "cell_type": "code",
      "source": [
        "np.add(a,b)"
      ],
      "metadata": {
        "colab": {
          "base_uri": "https://localhost:8080/"
        },
        "id": "jUQ4T5wZlWNY",
        "outputId": "1a269a01-4a69-4d4f-e10e-4df7c23d2f99"
      },
      "execution_count": 30,
      "outputs": [
        {
          "output_type": "execute_result",
          "data": {
            "text/plain": [
              "array([[20, 22, 24],\n",
              "       [26, 28, 30],\n",
              "       [32, 34, 36],\n",
              "       [38, 40, 42],\n",
              "       [44, 46, 48],\n",
              "       [50, 52, 54]])"
            ]
          },
          "metadata": {},
          "execution_count": 30
        }
      ]
    },
    {
      "cell_type": "code",
      "source": [
        "np.subtract(a,b)"
      ],
      "metadata": {
        "colab": {
          "base_uri": "https://localhost:8080/"
        },
        "id": "0wAg0PxDpPJO",
        "outputId": "a852514e-8111-497e-d3a4-8d0f97f54775"
      },
      "execution_count": 31,
      "outputs": [
        {
          "output_type": "execute_result",
          "data": {
            "text/plain": [
              "array([[-20, -20, -20],\n",
              "       [-20, -20, -20],\n",
              "       [-20, -20, -20],\n",
              "       [-20, -20, -20],\n",
              "       [-20, -20, -20],\n",
              "       [-20, -20, -20]])"
            ]
          },
          "metadata": {},
          "execution_count": 31
        }
      ]
    },
    {
      "cell_type": "code",
      "source": [
        "np.multiply(a,b)"
      ],
      "metadata": {
        "colab": {
          "base_uri": "https://localhost:8080/"
        },
        "id": "cZvUNPYdpfG2",
        "outputId": "adb644be-953b-4295-fe1f-7492fa2c345f"
      },
      "execution_count": 32,
      "outputs": [
        {
          "output_type": "execute_result",
          "data": {
            "text/plain": [
              "array([[  0,  21,  44],\n",
              "       [ 69,  96, 125],\n",
              "       [156, 189, 224],\n",
              "       [261, 300, 341],\n",
              "       [384, 429, 476],\n",
              "       [525, 576, 629]])"
            ]
          },
          "metadata": {},
          "execution_count": 32
        }
      ]
    },
    {
      "cell_type": "code",
      "source": [
        "np.divide(a,b)"
      ],
      "metadata": {
        "colab": {
          "base_uri": "https://localhost:8080/"
        },
        "id": "Ni_XkTXZpmhy",
        "outputId": "07c59e11-526d-4c40-e278-ebaefc7c5d5f"
      },
      "execution_count": 33,
      "outputs": [
        {
          "output_type": "execute_result",
          "data": {
            "text/plain": [
              "array([[0.        , 0.04761905, 0.09090909],\n",
              "       [0.13043478, 0.16666667, 0.2       ],\n",
              "       [0.23076923, 0.25925926, 0.28571429],\n",
              "       [0.31034483, 0.33333333, 0.35483871],\n",
              "       [0.375     , 0.39393939, 0.41176471],\n",
              "       [0.42857143, 0.44444444, 0.45945946]])"
            ]
          },
          "metadata": {},
          "execution_count": 33
        }
      ]
    },
    {
      "cell_type": "code",
      "source": [
        "#a@b- for doing matrix multiplication\n",
        "#for soing matrix multiplication 2nd element of 1st array and 1st elelement of 2nd array should be identical\n",
        "#6*3 3*6\n",
        "b=b.reshape(3,6)\n",
        "print(a.shape)\n",
        "print(b.shape)"
      ],
      "metadata": {
        "colab": {
          "base_uri": "https://localhost:8080/"
        },
        "id": "VUNtukw4p5Qm",
        "outputId": "2342b93c-6c03-4597-86af-048f2d5a253d"
      },
      "execution_count": 34,
      "outputs": [
        {
          "output_type": "stream",
          "name": "stdout",
          "text": [
            "(6, 3)\n",
            "(3, 6)\n"
          ]
        }
      ]
    },
    {
      "cell_type": "code",
      "source": [
        "a@b"
      ],
      "metadata": {
        "colab": {
          "base_uri": "https://localhost:8080/"
        },
        "id": "-8CjEhQpq6ia",
        "outputId": "4c7fd752-2723-45da-c699-14fe139dce21"
      },
      "execution_count": 35,
      "outputs": [
        {
          "output_type": "execute_result",
          "data": {
            "text/plain": [
              "array([[  90,   93,   96,   99,  102,  105],\n",
              "       [ 324,  336,  348,  360,  372,  384],\n",
              "       [ 558,  579,  600,  621,  642,  663],\n",
              "       [ 792,  822,  852,  882,  912,  942],\n",
              "       [1026, 1065, 1104, 1143, 1182, 1221],\n",
              "       [1260, 1308, 1356, 1404, 1452, 1500]])"
            ]
          },
          "metadata": {},
          "execution_count": 35
        }
      ]
    },
    {
      "cell_type": "code",
      "source": [
        "#dot function in matrix\n",
        "a.dot(b)"
      ],
      "metadata": {
        "colab": {
          "base_uri": "https://localhost:8080/"
        },
        "id": "irsoXANrrM1E",
        "outputId": "0ee0ca16-3ced-4291-9329-22353db6a170"
      },
      "execution_count": 36,
      "outputs": [
        {
          "output_type": "execute_result",
          "data": {
            "text/plain": [
              "array([[  90,   93,   96,   99,  102,  105],\n",
              "       [ 324,  336,  348,  360,  372,  384],\n",
              "       [ 558,  579,  600,  621,  642,  663],\n",
              "       [ 792,  822,  852,  882,  912,  942],\n",
              "       [1026, 1065, 1104, 1143, 1182, 1221],\n",
              "       [1260, 1308, 1356, 1404, 1452, 1500]])"
            ]
          },
          "metadata": {},
          "execution_count": 36
        }
      ]
    },
    {
      "cell_type": "code",
      "source": [
        "b.max()"
      ],
      "metadata": {
        "colab": {
          "base_uri": "https://localhost:8080/"
        },
        "id": "SJ7ikCybrbuF",
        "outputId": "a35eaa29-444f-41af-f467-05b6731a8fe7"
      },
      "execution_count": 37,
      "outputs": [
        {
          "output_type": "execute_result",
          "data": {
            "text/plain": [
              "37"
            ]
          },
          "metadata": {},
          "execution_count": 37
        }
      ]
    },
    {
      "cell_type": "code",
      "source": [
        "b.min()"
      ],
      "metadata": {
        "colab": {
          "base_uri": "https://localhost:8080/"
        },
        "id": "tQ9hDzx7rd3z",
        "outputId": "5ee01fcd-c476-4976-a9c0-f4a44f3562ca"
      },
      "execution_count": 38,
      "outputs": [
        {
          "output_type": "execute_result",
          "data": {
            "text/plain": [
              "20"
            ]
          },
          "metadata": {},
          "execution_count": 38
        }
      ]
    },
    {
      "cell_type": "code",
      "source": [
        "b.argmax()# index of maximum value"
      ],
      "metadata": {
        "colab": {
          "base_uri": "https://localhost:8080/"
        },
        "id": "ydokXP_irioV",
        "outputId": "90f8076b-3c3d-40be-f591-659a668addbc"
      },
      "execution_count": 39,
      "outputs": [
        {
          "output_type": "execute_result",
          "data": {
            "text/plain": [
              "17"
            ]
          },
          "metadata": {},
          "execution_count": 39
        }
      ]
    },
    {
      "cell_type": "code",
      "source": [
        "np.sum(b)"
      ],
      "metadata": {
        "colab": {
          "base_uri": "https://localhost:8080/"
        },
        "id": "Wj9YK-fes1SH",
        "outputId": "a38ee7eb-5ddd-421c-9ad9-f192fa021453"
      },
      "execution_count": 40,
      "outputs": [
        {
          "output_type": "execute_result",
          "data": {
            "text/plain": [
              "513"
            ]
          },
          "metadata": {},
          "execution_count": 40
        }
      ]
    },
    {
      "cell_type": "code",
      "source": [
        "np.sum(b,axis=1)# sum of each row, 1st row 135, 2nd-171"
      ],
      "metadata": {
        "colab": {
          "base_uri": "https://localhost:8080/"
        },
        "id": "zu_k8aGbs5p5",
        "outputId": "89a5daf4-d720-46fd-88c4-a1fcf4fb0382"
      },
      "execution_count": 41,
      "outputs": [
        {
          "output_type": "execute_result",
          "data": {
            "text/plain": [
              "array([135, 171, 207])"
            ]
          },
          "metadata": {},
          "execution_count": 41
        }
      ]
    },
    {
      "cell_type": "code",
      "source": [
        "np.sum(b,axis=0)#sum of each column"
      ],
      "metadata": {
        "colab": {
          "base_uri": "https://localhost:8080/"
        },
        "id": "Ux3cJeVRs-sN",
        "outputId": "77d563bd-f575-4461-9a3e-24d5cbe0ad7a"
      },
      "execution_count": 42,
      "outputs": [
        {
          "output_type": "execute_result",
          "data": {
            "text/plain": [
              "array([78, 81, 84, 87, 90, 93])"
            ]
          },
          "metadata": {},
          "execution_count": 42
        }
      ]
    },
    {
      "cell_type": "code",
      "source": [
        "np.mean(b)"
      ],
      "metadata": {
        "colab": {
          "base_uri": "https://localhost:8080/"
        },
        "id": "8wQZwP2ztOYs",
        "outputId": "2744adcd-1099-4b33-8286-7268fd1d419c"
      },
      "execution_count": 45,
      "outputs": [
        {
          "output_type": "execute_result",
          "data": {
            "text/plain": [
              "28.5"
            ]
          },
          "metadata": {},
          "execution_count": 45
        }
      ]
    },
    {
      "cell_type": "code",
      "source": [
        "np.sqrt(b)"
      ],
      "metadata": {
        "colab": {
          "base_uri": "https://localhost:8080/"
        },
        "id": "b1mpCMPntSNt",
        "outputId": "68356709-39e4-44c5-eff5-81181f0d2dbd"
      },
      "execution_count": 43,
      "outputs": [
        {
          "output_type": "execute_result",
          "data": {
            "text/plain": [
              "array([[4.47213595, 4.58257569, 4.69041576, 4.79583152, 4.89897949,\n",
              "        5.        ],\n",
              "       [5.09901951, 5.19615242, 5.29150262, 5.38516481, 5.47722558,\n",
              "        5.56776436],\n",
              "       [5.65685425, 5.74456265, 5.83095189, 5.91607978, 6.        ,\n",
              "        6.08276253]])"
            ]
          },
          "metadata": {},
          "execution_count": 43
        }
      ]
    },
    {
      "cell_type": "code",
      "source": [
        "np.std(b)"
      ],
      "metadata": {
        "colab": {
          "base_uri": "https://localhost:8080/"
        },
        "id": "5fPbidOCtVyQ",
        "outputId": "7172e8cf-7898-4600-ab18-23eed082429c"
      },
      "execution_count": 44,
      "outputs": [
        {
          "output_type": "execute_result",
          "data": {
            "text/plain": [
              "5.188127472091127"
            ]
          },
          "metadata": {},
          "execution_count": 44
        }
      ]
    },
    {
      "cell_type": "code",
      "source": [
        "np.log(b)"
      ],
      "metadata": {
        "colab": {
          "base_uri": "https://localhost:8080/"
        },
        "id": "8bf9mn4DtcK8",
        "outputId": "2f2a229c-863c-477f-db86-d6b2bbd09978"
      },
      "execution_count": 46,
      "outputs": [
        {
          "output_type": "execute_result",
          "data": {
            "text/plain": [
              "array([[2.99573227, 3.04452244, 3.09104245, 3.13549422, 3.17805383,\n",
              "        3.21887582],\n",
              "       [3.25809654, 3.29583687, 3.33220451, 3.36729583, 3.40119738,\n",
              "        3.4339872 ],\n",
              "       [3.4657359 , 3.49650756, 3.52636052, 3.55534806, 3.58351894,\n",
              "        3.61091791]])"
            ]
          },
          "metadata": {},
          "execution_count": 46
        }
      ]
    }
  ]
}