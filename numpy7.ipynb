{
  "nbformat": 4,
  "nbformat_minor": 0,
  "metadata": {
    "colab": {
      "provenance": []
    },
    "kernelspec": {
      "name": "python3",
      "display_name": "Python 3"
    },
    "language_info": {
      "name": "python"
    }
  },
  "cells": [
    {
      "cell_type": "code",
      "execution_count": 1,
      "metadata": {
        "colab": {
          "base_uri": "https://localhost:8080/"
        },
        "id": "zUJX7CeZZmnc",
        "outputId": "4d2c6a92-fa39-44aa-c864-c12e1513cfae"
      },
      "outputs": [
        {
          "output_type": "execute_result",
          "data": {
            "text/plain": [
              "array([0.09905806])"
            ]
          },
          "metadata": {},
          "execution_count": 1
        }
      ],
      "source": [
        "import numpy as np\n",
        "np.random.random(1) # array of 1 element"
      ]
    },
    {
      "cell_type": "code",
      "source": [
        "np.random.random(2) #array contains 2 randomly generated values"
      ],
      "metadata": {
        "colab": {
          "base_uri": "https://localhost:8080/"
        },
        "id": "SJ2eQTZYbbTT",
        "outputId": "1f13d23a-6a30-4eaf-fb8c-60220e2daadc"
      },
      "execution_count": 2,
      "outputs": [
        {
          "output_type": "execute_result",
          "data": {
            "text/plain": [
              "array([0.21159208, 0.42565404])"
            ]
          },
          "metadata": {},
          "execution_count": 2
        }
      ]
    },
    {
      "cell_type": "code",
      "source": [
        "np.random.random((2,2))# 2 dimensional array"
      ],
      "metadata": {
        "colab": {
          "base_uri": "https://localhost:8080/"
        },
        "id": "rBFSHSWKbpNx",
        "outputId": "7b3457fa-a118-4305-a280-60c631f592d0"
      },
      "execution_count": 3,
      "outputs": [
        {
          "output_type": "execute_result",
          "data": {
            "text/plain": [
              "array([[0.33426743, 0.84427905],\n",
              "       [0.2486075 , 0.57435994]])"
            ]
          },
          "metadata": {},
          "execution_count": 3
        }
      ]
    },
    {
      "cell_type": "code",
      "source": [
        "np.random.random((3,3))# 3 dimensional array"
      ],
      "metadata": {
        "colab": {
          "base_uri": "https://localhost:8080/"
        },
        "id": "xJ-IqdNebxUa",
        "outputId": "36ccda37-f48f-429a-caf7-45620f7b17f8"
      },
      "execution_count": 4,
      "outputs": [
        {
          "output_type": "execute_result",
          "data": {
            "text/plain": [
              "array([[0.92682591, 0.18161927, 0.77893106],\n",
              "       [0.8563407 , 0.05746035, 0.08880539],\n",
              "       [0.97661083, 0.23773587, 0.64181566]])"
            ]
          },
          "metadata": {},
          "execution_count": 4
        }
      ]
    },
    {
      "cell_type": "code",
      "source": [
        "np.random.randint(1,10) # randomly generated value between 1 to 10"
      ],
      "metadata": {
        "colab": {
          "base_uri": "https://localhost:8080/"
        },
        "id": "Sb65nwAWb3kS",
        "outputId": "9e951583-d3a8-4744-9f90-2d33ebc9af80"
      },
      "execution_count": 6,
      "outputs": [
        {
          "output_type": "execute_result",
          "data": {
            "text/plain": [
              "8"
            ]
          },
          "metadata": {},
          "execution_count": 6
        }
      ]
    },
    {
      "cell_type": "code",
      "source": [
        "np.random.randint(1,10,(2,2)) # here it will print 2 d array with the values between  1 to 10"
      ],
      "metadata": {
        "colab": {
          "base_uri": "https://localhost:8080/"
        },
        "id": "9gCAyqOMcGQa",
        "outputId": "87e2fa4f-f448-43bb-f77f-a1acd36dd9c2"
      },
      "execution_count": 8,
      "outputs": [
        {
          "output_type": "execute_result",
          "data": {
            "text/plain": [
              "array([[4, 3],\n",
              "       [1, 8]])"
            ]
          },
          "metadata": {},
          "execution_count": 8
        }
      ]
    },
    {
      "cell_type": "code",
      "source": [
        "np.random.randint(1,10,(3,4,5))"
      ],
      "metadata": {
        "colab": {
          "base_uri": "https://localhost:8080/"
        },
        "id": "tIFfMsOld_Bz",
        "outputId": "feb9b3b2-bb2c-495f-dc52-706c4060652e"
      },
      "execution_count": 12,
      "outputs": [
        {
          "output_type": "execute_result",
          "data": {
            "text/plain": [
              "array([[[2, 9, 3, 9, 9],\n",
              "        [7, 4, 2, 5, 4],\n",
              "        [9, 9, 9, 9, 5],\n",
              "        [3, 5, 5, 1, 8]],\n",
              "\n",
              "       [[4, 7, 9, 6, 6],\n",
              "        [9, 5, 4, 1, 3],\n",
              "        [2, 9, 6, 5, 8],\n",
              "        [8, 9, 1, 1, 7]],\n",
              "\n",
              "       [[6, 4, 4, 3, 4],\n",
              "        [2, 4, 8, 3, 3],\n",
              "        [6, 9, 5, 7, 6],\n",
              "        [6, 8, 3, 8, 2]]])"
            ]
          },
          "metadata": {},
          "execution_count": 12
        }
      ]
    },
    {
      "cell_type": "code",
      "source": [
        "np.random.rand(2,2) # it will give float values ,2d array"
      ],
      "metadata": {
        "colab": {
          "base_uri": "https://localhost:8080/"
        },
        "id": "7PGUigfkeXKc",
        "outputId": "8efe1297-6876-4530-ca5b-cd0418765899"
      },
      "execution_count": 13,
      "outputs": [
        {
          "output_type": "execute_result",
          "data": {
            "text/plain": [
              "array([[0.84135226, 0.82634322],\n",
              "       [0.70183148, 0.07909428]])"
            ]
          },
          "metadata": {},
          "execution_count": 13
        }
      ]
    },
    {
      "cell_type": "code",
      "source": [
        "np.random.randn(2,2) # it will give -vely generated float values also  ,2d array"
      ],
      "metadata": {
        "colab": {
          "base_uri": "https://localhost:8080/"
        },
        "id": "Dro6vYU_e6Za",
        "outputId": "398d3703-26d7-4f8b-8a93-0abafea84993"
      },
      "execution_count": 14,
      "outputs": [
        {
          "output_type": "execute_result",
          "data": {
            "text/plain": [
              "array([[ 0.6216907 , -0.46197181],\n",
              "       [-1.06814684, -1.12509533]])"
            ]
          },
          "metadata": {},
          "execution_count": 14
        }
      ]
    },
    {
      "cell_type": "code",
      "source": [
        "a=np.arange(1,10) # arranging values from 1 to 10\n",
        "print(a)"
      ],
      "metadata": {
        "colab": {
          "base_uri": "https://localhost:8080/"
        },
        "id": "lIXuC9S-fKOj",
        "outputId": "6c78324c-c3bc-4144-b61f-31953a5f48f2"
      },
      "execution_count": 17,
      "outputs": [
        {
          "output_type": "stream",
          "name": "stdout",
          "text": [
            "[1 2 3 4 5 6 7 8 9]\n"
          ]
        }
      ]
    },
    {
      "cell_type": "code",
      "source": [
        "np.random.choice(a)"
      ],
      "metadata": {
        "colab": {
          "base_uri": "https://localhost:8080/"
        },
        "id": "Lo46DPsFfiK2",
        "outputId": "042e7606-e14c-47de-dee5-a0f5cbdebc82"
      },
      "execution_count": 18,
      "outputs": [
        {
          "output_type": "execute_result",
          "data": {
            "text/plain": [
              "3"
            ]
          },
          "metadata": {},
          "execution_count": 18
        }
      ]
    }
  ]
}