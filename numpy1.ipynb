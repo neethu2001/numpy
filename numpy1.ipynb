{
  "nbformat": 4,
  "nbformat_minor": 0,
  "metadata": {
    "colab": {
      "provenance": []
    },
    "kernelspec": {
      "name": "python3",
      "display_name": "Python 3"
    },
    "language_info": {
      "name": "python"
    }
  },
  "cells": [
    {
      "cell_type": "code",
      "execution_count": 1,
      "metadata": {
        "id": "gRjiaxoJmA5T"
      },
      "outputs": [],
      "source": [
        "import numpy as np"
      ]
    },
    {
      "cell_type": "code",
      "source": [
        "#normal case- we can store only 1-dimensional array\n",
        "lst=[1,2,3,4,5,6]\n",
        "print(lst)"
      ],
      "metadata": {
        "colab": {
          "base_uri": "https://localhost:8080/"
        },
        "id": "kcB8IiMPmMEl",
        "outputId": "4282ad6b-3275-4881-d646-1e139a0d3e2e"
      },
      "execution_count": 2,
      "outputs": [
        {
          "output_type": "stream",
          "name": "stdout",
          "text": [
            "[1, 2, 3, 4, 5, 6]\n"
          ]
        }
      ]
    },
    {
      "cell_type": "code",
      "source": [
        "#using numpy we can store multi dimensional arrays also\n",
        "print('1D array')\n",
        "a=np.array([1,2,3,4,5,6,7,8])\n",
        "print(a)"
      ],
      "metadata": {
        "colab": {
          "base_uri": "https://localhost:8080/"
        },
        "id": "0Zu5ZQUKmcKH",
        "outputId": "ba5bb8c7-52b3-4d16-f73d-3e6703660544"
      },
      "execution_count": 4,
      "outputs": [
        {
          "output_type": "stream",
          "name": "stdout",
          "text": [
            "1D array\n",
            "[1 2 3 4 5 6 7 8]\n"
          ]
        }
      ]
    },
    {
      "cell_type": "code",
      "source": [
        "print('2D array')\n",
        "b = np.array([[1,2,3,4,5],\n",
        "             [6,7,8,9,10]])\n",
        "print(b)"
      ],
      "metadata": {
        "colab": {
          "base_uri": "https://localhost:8080/"
        },
        "id": "hLXiEbYenEtI",
        "outputId": "0151b17e-40a2-4d02-f771-c3a22cd5ca6a"
      },
      "execution_count": 7,
      "outputs": [
        {
          "output_type": "stream",
          "name": "stdout",
          "text": [
            "2D array\n",
            "[[ 1  2  3  4  5]\n",
            " [ 6  7  8  9 10]]\n"
          ]
        }
      ]
    },
    {
      "cell_type": "code",
      "source": [
        "print('3D array')\n",
        "c = np.array([[1,2,3,4,5],\n",
        "             [6,7,8,9,10],\n",
        "             [11,12,13,14,15]])\n",
        "print(c)"
      ],
      "metadata": {
        "colab": {
          "base_uri": "https://localhost:8080/"
        },
        "id": "m-bPD1SEnX4D",
        "outputId": "cd521986-824a-4118-d250-a9af8a371c40"
      },
      "execution_count": 9,
      "outputs": [
        {
          "output_type": "stream",
          "name": "stdout",
          "text": [
            "3D array\n",
            "[[ 1  2  3  4  5]\n",
            " [ 6  7  8  9 10]\n",
            " [11 12 13 14 15]]\n"
          ]
        }
      ]
    },
    {
      "cell_type": "code",
      "source": [
        "type(a) #nd array means n dimensional array of data"
      ],
      "metadata": {
        "colab": {
          "base_uri": "https://localhost:8080/"
        },
        "id": "NMRYVXBVn5yN",
        "outputId": "43abe09d-0a66-42cd-927b-a6d2ba8e5e54"
      },
      "execution_count": 10,
      "outputs": [
        {
          "output_type": "execute_result",
          "data": {
            "text/plain": [
              "numpy.ndarray"
            ]
          },
          "metadata": {},
          "execution_count": 10
        }
      ]
    },
    {
      "cell_type": "markdown",
      "source": [
        "size tells about the no of elements in an array"
      ],
      "metadata": {
        "id": "UsZsy7IPoMSM"
      }
    },
    {
      "cell_type": "code",
      "source": [
        "print(a.size)\n",
        "print(b.size)\n",
        "print(c.size)"
      ],
      "metadata": {
        "colab": {
          "base_uri": "https://localhost:8080/"
        },
        "id": "IB3q1faQoVcK",
        "outputId": "cfccc6d8-7ddc-41a0-90ac-9e1381324874"
      },
      "execution_count": 11,
      "outputs": [
        {
          "output_type": "stream",
          "name": "stdout",
          "text": [
            "8\n",
            "10\n",
            "15\n"
          ]
        }
      ]
    },
    {
      "cell_type": "markdown",
      "source": [
        "shape=(rows,columns)"
      ],
      "metadata": {
        "id": "IPIsN2srooEi"
      }
    },
    {
      "cell_type": "code",
      "source": [
        "print(a.shape)\n",
        "print(b.shape)\n",
        "print(c.shape)\n",
        "# it will give the output as eg: (2,5) 2 rows and 5 column"
      ],
      "metadata": {
        "colab": {
          "base_uri": "https://localhost:8080/"
        },
        "id": "5TZJVNYoouN4",
        "outputId": "25013e28-8bc3-495f-b77c-c8b89ac50b40"
      },
      "execution_count": 12,
      "outputs": [
        {
          "output_type": "stream",
          "name": "stdout",
          "text": [
            "(8,)\n",
            "(2, 5)\n",
            "(3, 5)\n"
          ]
        }
      ]
    },
    {
      "cell_type": "markdown",
      "source": [
        "dtype=type of data present in the array"
      ],
      "metadata": {
        "id": "0c_yPlRhpf6R"
      }
    },
    {
      "cell_type": "code",
      "source": [
        "print(a.dtype)\n",
        "print(b.dtype)\n",
        "print(c.dtype)"
      ],
      "metadata": {
        "colab": {
          "base_uri": "https://localhost:8080/"
        },
        "id": "7e9sRggIplcH",
        "outputId": "50714783-f4dd-4f62-b519-828657ef5147"
      },
      "execution_count": 13,
      "outputs": [
        {
          "output_type": "stream",
          "name": "stdout",
          "text": [
            "int64\n",
            "int64\n",
            "int64\n"
          ]
        }
      ]
    },
    {
      "cell_type": "code",
      "source": [
        "# after changing datatype into float - then the int datatype change into float datatype\n",
        "d=np.array([[1,2,3,4.2,5],\n",
        "             [6,7,8.9,9,10],\n",
        "             [11,12,13,14,15]])\n",
        "print(d.dtype)"
      ],
      "metadata": {
        "colab": {
          "base_uri": "https://localhost:8080/"
        },
        "id": "QeZbozObqBtR",
        "outputId": "67308670-7248-48e9-f62a-391f1518d339"
      },
      "execution_count": 14,
      "outputs": [
        {
          "output_type": "stream",
          "name": "stdout",
          "text": [
            "float64\n"
          ]
        }
      ]
    },
    {
      "cell_type": "markdown",
      "source": [
        "arr.transpose()- it will replace the rows into columns and columns into rows"
      ],
      "metadata": {
        "id": "4vSPvMw_qiw1"
      }
    },
    {
      "cell_type": "code",
      "source": [
        "#when we will run the tranpose , it will invert the rows and columns.\n",
        "d.transpose()"
      ],
      "metadata": {
        "colab": {
          "base_uri": "https://localhost:8080/"
        },
        "id": "OXNv9nvHqrkB",
        "outputId": "1fa80307-ffea-4b6b-80f4-2f779fb43c42"
      },
      "execution_count": 15,
      "outputs": [
        {
          "output_type": "execute_result",
          "data": {
            "text/plain": [
              "array([[ 1. ,  6. , 11. ],\n",
              "       [ 2. ,  7. , 12. ],\n",
              "       [ 3. ,  8.9, 13. ],\n",
              "       [ 4.2,  9. , 14. ],\n",
              "       [ 5. , 10. , 15. ]])"
            ]
          },
          "metadata": {},
          "execution_count": 15
        }
      ]
    }
  ]
}